{
 "cells": [
  {
   "cell_type": "markdown",
   "metadata": {
    "collapsed": true
   },
   "source": [
    "___\n",
    "\n",
    "<a href='http://www.pieriandata.com'> <img src='../Pierian_Data_Logo.png' /></a>\n",
    "___"
   ]
  },
  {
   "cell_type": "markdown",
   "metadata": {},
   "source": [
    "# Sentiment Analysis Assessment - Solution\n",
    "\n",
    "## Task #1: Perform vector arithmetic on your own words\n",
    "Write code that evaluates vector arithmetic on your own set of related words. The goal is to come as close to an expected word as possible. Please feel free to share success stories in the Q&A Forum for this section!"
   ]
  },
  {
   "cell_type": "code",
   "execution_count": 1,
   "metadata": {},
   "outputs": [],
   "source": [
    "# Import spaCy and load the language library. Remember to use a larger model!\n",
    "\n",
    "import spacy\n",
    "\n",
    "nlp = spacy.load('en_core_web_lg')"
   ]
  },
  {
   "cell_type": "code",
   "execution_count": 2,
   "metadata": {},
   "outputs": [],
   "source": [
    "# Choose the words you wish to compare, and obtain their vectors\n",
    "\n",
    "word1 = nlp.vocab['wolf'].vector\n",
    "\n",
    "word2 = nlp.vocab['dog'].vector\n",
    "\n",
    "word3 = nlp.vocab['cat'].vector"
   ]
  },
  {
   "cell_type": "code",
   "execution_count": 3,
   "metadata": {},
   "outputs": [],
   "source": [
    "# Import spatial and define a cosine_similarity function\n",
    "\n",
    "from scipy import spatial\n",
    "\n",
    "cosine_similarity = lambda x, y: 1 - spatial.distance.cosine(x, y)"
   ]
  },
  {
   "cell_type": "code",
   "execution_count": 4,
   "metadata": {},
   "outputs": [
    {
     "data": {
      "text/plain": [
       "array([-3.31050038e-01, -7.70348012e-01, -1.61958992e-01,  5.14509976e-02,\n",
       "       -4.39818025e-01,  5.61370015e-01, -7.02800155e-02, -1.59049034e-02,\n",
       "       -3.21312010e-01,  3.47299814e-01, -4.55450028e-01, -8.28244984e-01,\n",
       "       -7.40220010e-01, -5.42928994e-01, -5.63299805e-02,  4.28279996e-01,\n",
       "       -4.62331504e-01,  4.05170023e-01, -5.48449993e-01,  1.02373034e-01,\n",
       "        1.80074990e-01, -7.66499713e-03, -2.12929994e-01, -2.46849999e-01,\n",
       "       -5.52890062e-01,  9.38629806e-02, -7.23510027e-01,  7.02539980e-02,\n",
       "        5.78920245e-02,  1.84492990e-01, -4.80529994e-01,  2.75459979e-02,\n",
       "        6.71660006e-02, -5.13229966e-01,  2.37689972e-01, -3.08634996e-01,\n",
       "        3.63579988e-01, -1.35779977e-01, -7.75561988e-01, -4.09240007e-01,\n",
       "       -3.27869982e-01,  3.85720015e-01,  3.15609947e-02, -1.71799973e-01,\n",
       "        6.24130011e-01,  2.73019969e-02, -2.17069983e-01,  3.58170003e-01,\n",
       "       -6.13200068e-02, -3.95631999e-01, -1.76720008e-01, -1.14570022e-01,\n",
       "       -6.55736983e-01, -9.14748907e-02, -5.13620019e-01, -3.11610043e-01,\n",
       "       -3.33386004e-01,  3.16150010e-01,  3.79950583e-01,  1.39960021e-01,\n",
       "        5.87500446e-03, -1.16848797e-01, -1.95110068e-02, -7.61590004e-01,\n",
       "       -5.90600014e-01, -2.85609990e-01, -1.24830008e-01, -4.09950167e-02,\n",
       "        4.91731107e-01, -4.76163030e-01,  3.83399993e-01, -8.43399987e-02,\n",
       "       -5.26211083e-01, -3.78809988e-01, -3.46466005e-01,  6.23516977e-01,\n",
       "       -4.75839972e-01, -4.99099493e-02,  4.18850005e-01, -3.62799972e-01,\n",
       "       -9.68000293e-03, -1.96059018e-01,  6.59770012e-01,  7.53539979e-01,\n",
       "        6.22070014e-01, -3.21700007e-01,  1.08907986e+00, -7.71560073e-02,\n",
       "        1.96569979e-01,  3.93941015e-01, -1.04179978e-02,  7.58900046e-02,\n",
       "       -2.44010054e-02, -1.05455995e+00,  1.26237988e-01, -4.83850002e-01,\n",
       "        2.39899904e-02,  2.75130004e-01, -8.63810182e-02,  3.70970011e-01,\n",
       "       -1.24909401e-01,  4.26950008e-01,  2.03523993e-01,  3.97080034e-02,\n",
       "       -1.44252986e-01, -9.81040001e-01,  3.71429980e-01, -1.57549009e-01,\n",
       "       -2.65230000e-01,  3.94029975e-01,  1.10208020e-01,  5.74499965e-02,\n",
       "        3.66270006e-01, -1.22520995e+00, -2.87450016e-01,  4.38091964e-01,\n",
       "        1.58252001e-01,  1.85795009e-01,  2.75606990e-01,  4.61439967e-01,\n",
       "       -1.16912007e-01, -5.55723011e-01,  1.08862996e+00, -7.29069948e-01,\n",
       "       -5.31690001e-01,  3.06210011e-01,  2.87169993e-01, -1.76618978e-01,\n",
       "       -9.14950013e-01, -6.37829900e-02, -3.91300172e-02, -5.42359948e-01,\n",
       "       -2.61259019e-01, -1.22139990e-01,  3.08182001e-01,  4.25031006e-01,\n",
       "       -8.61109972e-01, -4.72699970e-01, -1.07039988e-01,  4.15156007e-01,\n",
       "       -2.71810007e+00,  1.75460011e-01, -5.05509019e-01,  1.05009973e-01,\n",
       "        1.40429974e-01,  3.12720001e-01, -2.30310887e-01, -2.29829982e-01,\n",
       "       -1.60552993e-01, -5.70474029e-01, -2.77104080e-01, -5.47700375e-03,\n",
       "        2.16629028e-01,  4.27509993e-02,  8.93410027e-01,  9.67379808e-02,\n",
       "       -6.47546127e-02,  3.27570021e-01,  1.09510005e-01,  1.07298994e+00,\n",
       "        5.32029986e-01, -3.87449980e-01, -9.74184036e-01, -3.34679991e-01,\n",
       "        8.85309950e-02,  8.96609873e-02, -6.89045012e-01, -5.72497010e-01,\n",
       "       -3.77822012e-01, -3.33095998e-01, -2.49231994e-01,  1.66586995e-01,\n",
       "       -1.20750979e-01,  1.99960008e-01, -6.26125395e-01,  5.76830029e-01,\n",
       "        1.06318200e+00, -6.61490083e-01, -2.01179996e-01,  2.20629930e-01,\n",
       "       -2.78321028e-01, -3.21359992e-01,  2.95656979e-01,  1.10089988e-01,\n",
       "       -4.70340043e-01, -1.39389992e-01, -4.52513993e-01, -2.30767980e-01,\n",
       "        1.50028899e-01, -8.57400298e-02,  4.15970087e-02,  2.59624004e-01,\n",
       "       -1.78999990e-01, -2.16020048e-01,  9.22899961e-01,  4.26420003e-01,\n",
       "        6.27239943e-02, -3.91209990e-01, -1.37199759e-02, -1.76046997e-01,\n",
       "       -4.25839990e-01,  6.09243989e-01, -5.50269961e-01, -2.93646991e-01,\n",
       "       -8.47920105e-02, -4.52275991e-01,  1.87230021e-01,  8.47630128e-02,\n",
       "       -4.63569999e-01, -6.40861690e-01,  3.51080000e-01,  1.03940010e-01,\n",
       "        8.49002600e-03,  1.09519988e-01,  2.10587010e-01, -3.27129990e-01,\n",
       "       -3.51738989e-01,  5.38730025e-01,  3.30994993e-01,  2.71548688e-01,\n",
       "       -3.65408003e-01, -2.61699855e-02, -2.02610001e-01, -1.31089985e-01,\n",
       "        4.99400049e-02,  3.97200018e-01,  9.10300016e-01,  7.39619970e-01,\n",
       "        8.41400102e-02,  1.08899109e-01, -2.39800006e-01, -9.28249881e-02,\n",
       "       -2.20200017e-01, -2.35240996e-01,  7.21499771e-02, -1.22207999e-01,\n",
       "       -6.20449007e-01, -4.70023990e-01,  2.80089974e-02, -3.16390038e-01,\n",
       "       -3.59710008e-01,  4.49225187e-01,  2.15335995e-01, -6.56260028e-02,\n",
       "       -4.66200113e-02, -1.94677308e-01,  5.63167989e-01,  6.62439942e-01,\n",
       "        3.26789975e-01, -7.79739022e-01, -3.10249984e-01, -2.62999982e-01,\n",
       "       -9.76800025e-02,  1.03044009e+00,  2.18171373e-01, -3.18778008e-01,\n",
       "       -6.08583987e-01,  2.95673013e-01,  9.06334817e-02, -6.51859999e-01,\n",
       "       -4.64065999e-01,  1.15209013e-01,  3.95361006e-01,  1.20670021e-01,\n",
       "        4.57944989e-01, -4.84549999e-01,  3.30794990e-01, -3.67448986e-01,\n",
       "        1.15570992e-01, -2.32865989e-01, -5.05580068e-01, -2.40004063e-03,\n",
       "        1.42717987e-01, -2.00480998e-01,  1.47107989e-01, -9.05800313e-02,\n",
       "        2.27445006e-01,  9.95599926e-02, -2.45819986e-01, -4.04026002e-01,\n",
       "        2.63533980e-01,  5.58099985e-01,  6.30230010e-02, -7.24699974e-01,\n",
       "        4.35009986e-01,  3.23070019e-01,  5.10860085e-02, -4.24060017e-01,\n",
       "       -1.81750000e-01, -1.49455011e-01, -6.88588023e-01,  3.60010028e-01,\n",
       "       -1.63883999e-01,  3.60495508e-01, -1.17083997e-01,  7.76620030e-01,\n",
       "       -3.66622001e-01,  4.96960014e-01, -2.14143008e-01, -5.52599013e-01],\n",
       "      dtype=float32)"
      ]
     },
     "execution_count": 4,
     "metadata": {},
     "output_type": "execute_result"
    }
   ],
   "source": [
    "# Write an expression for vector arithmetic\n",
    "# For example: new_vector = word1 - word2 + word3\n",
    "\n",
    "new_vector = word1 - word2 + word3\n",
    "\n",
    "new_vector"
   ]
  },
  {
   "cell_type": "code",
   "execution_count": null,
   "metadata": {},
   "outputs": [],
   "source": [
    "# List the top ten closest vectors in the vocabulary to the result of the expression above\n",
    "\n",
    "\n",
    "computed_similarities = []\n",
    "\n",
    "for word in nlp.vocab:\n",
    "    \n",
    "    if word.has_vector:\n",
    "        \n",
    "        if word.is_lower:\n",
    "            \n",
    "            if word.is_alpha:\n",
    "                \n",
    "                similarity = cosine_similarity(new_vector, word.vector)\n",
    "                \n",
    "                computed_similarities.append((word, similarity))\n",
    "\n",
    "computed_similarities = sorted(computed_similarities, key=lambda item: -item[1])\n",
    "\n",
    "\n",
    "print([w[0].text for w in computed_similarities[:10]])"
   ]
  },
  {
   "cell_type": "markdown",
   "metadata": {},
   "source": [
    "#### CHALLENGE: Write a function that takes in 3 strings, performs a-b+c arithmetic, and returns a top-ten result"
   ]
  },
  {
   "cell_type": "code",
   "execution_count": 5,
   "metadata": {},
   "outputs": [],
   "source": [
    "def vector_math(a,b,c):\n",
    "    \n",
    "    new_vector = nlp.vocab[a].vector - nlp.vocab[b].vector + nlp.vocab[c].vector\n",
    "    \n",
    "    computed_similarities = []\n",
    "\n",
    "    for word in nlp.vocab:\n",
    "        \n",
    "        if word.has_vector:\n",
    "            \n",
    "            if word.is_lower:\n",
    "                \n",
    "                if word.is_alpha:\n",
    "                    \n",
    "                    similarity = cosine_similarity(new_vector, word.vector)\n",
    "                    \n",
    "                    computed_similarities.append((word, similarity))\n",
    "\n",
    "    computed_similarities = sorted(computed_similarities, key=lambda item: -item[1])\n",
    "\n",
    "    return [w[0].text for w in computed_similarities[:10]]"
   ]
  },
  {
   "cell_type": "code",
   "execution_count": 6,
   "metadata": {},
   "outputs": [
    {
     "data": {
      "text/plain": [
       "['king',\n",
       " 'queen',\n",
       " 'prince',\n",
       " 'kings',\n",
       " 'princess',\n",
       " 'royal',\n",
       " 'throne',\n",
       " 'queens',\n",
       " 'monarch',\n",
       " 'kingdom']"
      ]
     },
     "execution_count": 6,
     "metadata": {},
     "output_type": "execute_result"
    }
   ],
   "source": [
    "# Test the function on known words:\n",
    "vector_math('king','man','woman')"
   ]
  },
  {
   "cell_type": "markdown",
   "metadata": {},
   "source": [
    "## Task #2: Perform VADER Sentiment Analysis on your own review\n",
    "Write code that returns a set of SentimentIntensityAnalyzer polarity scores based on your own written review."
   ]
  },
  {
   "cell_type": "code",
   "execution_count": 8,
   "metadata": {},
   "outputs": [
    {
     "name": "stderr",
     "output_type": "stream",
     "text": [
      "[nltk_data] Downloading package vader_lexicon to\n",
      "[nltk_data]     C:\\Users\\badri\\AppData\\Roaming\\nltk_data...\n"
     ]
    }
   ],
   "source": [
    "# Import SentimentIntensityAnalyzer and create an sid object\n",
    "import nltk\n",
    "\n",
    "nltk.download('vader_lexicon')\n",
    "\n",
    "from nltk.sentiment.vader import SentimentIntensityAnalyzer\n",
    "\n",
    "sid = SentimentIntensityAnalyzer()"
   ]
  },
  {
   "cell_type": "code",
   "execution_count": 9,
   "metadata": {},
   "outputs": [],
   "source": [
    "# Write a review as one continuous string (multiple sentences are ok)\n",
    "review = 'This movie is so bad that screening it is a CRIME!!!'"
   ]
  },
  {
   "cell_type": "code",
   "execution_count": 10,
   "metadata": {},
   "outputs": [
    {
     "data": {
      "text/plain": [
       "{'neg': 0.545, 'neu': 0.455, 'pos': 0.0, 'compound': -0.891}"
      ]
     },
     "execution_count": 10,
     "metadata": {},
     "output_type": "execute_result"
    }
   ],
   "source": [
    "# Obtain the sid scores for your review\n",
    "sid.polarity_scores(review)"
   ]
  },
  {
   "cell_type": "markdown",
   "metadata": {},
   "source": [
    "### CHALLENGE: Write a function that takes in a review and returns a score of \"Positive\", \"Negative\" or \"Neutral\""
   ]
  },
  {
   "cell_type": "code",
   "execution_count": 13,
   "metadata": {},
   "outputs": [],
   "source": [
    "def review_rating(string):\n",
    "    \n",
    "    dictionary = sid.polarity_scores(string)\n",
    "    \n",
    "    score = dictionary['compound']\n",
    "    \n",
    "    if score > 0 :\n",
    "        \n",
    "        return 'Positive'\n",
    "    \n",
    "    elif score < 0:\n",
    "        \n",
    "        return 'Negative'\n",
    "    \n",
    "    else :\n",
    "        \n",
    "        return 'Neutral'"
   ]
  },
  {
   "cell_type": "code",
   "execution_count": 14,
   "metadata": {},
   "outputs": [
    {
     "data": {
      "text/plain": [
       "'Negative'"
      ]
     },
     "execution_count": 14,
     "metadata": {},
     "output_type": "execute_result"
    }
   ],
   "source": [
    "# Test the function on your review above:\n",
    "review_rating(review)"
   ]
  },
  {
   "cell_type": "markdown",
   "metadata": {},
   "source": [
    "## Great job!"
   ]
  }
 ],
 "metadata": {
  "kernelspec": {
   "display_name": "Python 3",
   "language": "python",
   "name": "python3"
  },
  "language_info": {
   "codemirror_mode": {
    "name": "ipython",
    "version": 3
   },
   "file_extension": ".py",
   "mimetype": "text/x-python",
   "name": "python",
   "nbconvert_exporter": "python",
   "pygments_lexer": "ipython3",
   "version": "3.7.6"
  }
 },
 "nbformat": 4,
 "nbformat_minor": 2
}
